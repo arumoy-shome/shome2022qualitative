{
 "cells": [
  {
   "cell_type": "code",
   "execution_count": 1,
   "metadata": {},
   "outputs": [
    {
     "name": "stderr",
     "output_type": "stream",
     "text": [
      "WARNING:root:No module named 'tempeh': LawSchoolGPADataset will be unavailable. To install, run:\n",
      "pip install 'aif360[LawSchoolGPA]'\n",
      "WARNING:root:No module named 'tensorflow': AdversarialDebiasing will be unavailable. To install, run:\n",
      "pip install 'aif360[AdversarialDebiasing]'\n",
      "WARNING:root:No module named 'tensorflow': AdversarialDebiasing will be unavailable. To install, run:\n",
      "pip install 'aif360[AdversarialDebiasing]'\n",
      "WARNING:root:No module named 'fairlearn': ExponentiatedGradientReduction will be unavailable. To install, run:\n",
      "pip install 'aif360[Reductions]'\n",
      "WARNING:root:No module named 'fairlearn': GridSearchReduction will be unavailable. To install, run:\n",
      "pip install 'aif360[Reductions]'\n",
      "WARNING:root:No module named 'fairlearn': GridSearchReduction will be unavailable. To install, run:\n",
      "pip install 'aif360[Reductions]'\n"
     ]
    }
   ],
   "source": [
    "import pandas as pd\n",
    "from aif360.datasets import (\n",
    "    AdultDataset,\n",
    "    CompasDataset,\n",
    "    BankDataset,\n",
    "    GermanDataset,\n",
    "    MEPSDataset21,\n",
    ")\n",
    "\n",
    "from aif360.metrics import BinaryLabelDatasetMetric\n",
    "\n",
    "\n",
    "indices = [[\n",
    "    \"adult-sex\",\n",
    "    \"adult-race\",\n",
    "    \"compas-sex\",\n",
    "    \"compas-race\",\n",
    "    \"bank-age\",\n",
    "    \"german-sex\",\n",
    "    \"german-age\",\n",
    "    \"meps-race\",\n",
    "],\n",
    "[\"None\", \"Privileged\", \"Unprivileged\"]]\n",
    "\n",
    "numbers = pd.DataFrame(\n",
    "    columns=[\"num_instances\", \"num_positives\", \"num_negatives\"],\n",
    "    index=pd.MultiIndex.from_product(indices, names=[\"dataset\", \"condition\"])\n",
    ")"
   ]
  },
  {
   "cell_type": "markdown",
   "metadata": {},
   "source": [
    "# adult-sex"
   ]
  },
  {
   "cell_type": "code",
   "execution_count": 2,
   "metadata": {},
   "outputs": [
    {
     "name": "stderr",
     "output_type": "stream",
     "text": [
      "WARNING:root:Missing Data: 3620 rows removed from AdultDataset.\n"
     ]
    }
   ],
   "source": [
    "data = AdultDataset(\n",
    "    protected_attribute_names=[\"sex\"],\n",
    "    privileged_classes=[[\"Male\"]],\n",
    "    features_to_drop=[\"race\"],\n",
    ")\n",
    "p, u = [{\"sex\": 1}], [{\"sex\": 0}]\n",
    "metrics = BinaryLabelDatasetMetric(\n",
    "    dataset=data,\n",
    "    privileged_groups=p,\n",
    "    unprivileged_groups=u,\n",
    ")\n",
    "\n",
    "numbers.loc[(\"adult-sex\", \"None\"), \"num_instances\"] = metrics.num_instances(privileged=None)\n",
    "numbers.loc[(\"adult-sex\", \"Privileged\"), \"num_instances\"] = metrics.num_instances(privileged=True)\n",
    "numbers.loc[(\"adult-sex\", \"Unprivileged\"), \"num_instances\"] = metrics.num_instances(privileged=False)\n",
    "\n",
    "numbers.loc[(\"adult-sex\", \"None\"), \"num_positives\"] = metrics.num_positives(privileged=None)\n",
    "numbers.loc[(\"adult-sex\", \"Privileged\"), \"num_positives\"] = metrics.num_positives(privileged=True)\n",
    "numbers.loc[(\"adult-sex\", \"Unprivileged\"), \"num_positives\"] = metrics.num_positives(privileged=False)\n",
    "\n",
    "numbers.loc[(\"adult-sex\", \"None\"), \"num_negatives\"] = metrics.num_negatives(privileged=None)\n",
    "numbers.loc[(\"adult-sex\", \"Privileged\"), \"num_negatives\"] = metrics.num_negatives(privileged=True)\n",
    "numbers.loc[(\"adult-sex\", \"Unprivileged\"), \"num_negatives\"] = metrics.num_negatives(privileged=False)"
   ]
  },
  {
   "cell_type": "markdown",
   "metadata": {},
   "source": [
    "# adult-race"
   ]
  },
  {
   "cell_type": "code",
   "execution_count": 3,
   "metadata": {},
   "outputs": [
    {
     "name": "stderr",
     "output_type": "stream",
     "text": [
      "WARNING:root:Missing Data: 3620 rows removed from AdultDataset.\n"
     ]
    }
   ],
   "source": [
    "data = AdultDataset(\n",
    "    protected_attribute_names=[\"race\"],\n",
    "    privileged_classes=[[\"White\"]],\n",
    "    features_to_drop=[\"sex\"],\n",
    ")\n",
    "p, u = [{\"race\": 1}], [{\"race\": 0}]\n",
    "metrics = BinaryLabelDatasetMetric(\n",
    "    dataset=data,\n",
    "    privileged_groups=p,\n",
    "    unprivileged_groups=u,\n",
    ")\n",
    "\n",
    "numbers.loc[(\"adult-race\", \"None\"), \"num_instances\"] = metrics.num_instances(privileged=None)\n",
    "numbers.loc[(\"adult-race\", \"Privileged\"), \"num_instances\"] = metrics.num_instances(privileged=True)\n",
    "numbers.loc[(\"adult-race\", \"Unprivileged\"), \"num_instances\"] = metrics.num_instances(privileged=False)\n",
    "\n",
    "numbers.loc[(\"adult-race\", \"None\"), \"num_positives\"] = metrics.num_positives(privileged=None)\n",
    "numbers.loc[(\"adult-race\", \"Privileged\"), \"num_positives\"] = metrics.num_positives(privileged=True)\n",
    "numbers.loc[(\"adult-race\", \"Unprivileged\"), \"num_positives\"] = metrics.num_positives(privileged=False)\n",
    "\n",
    "numbers.loc[(\"adult-race\", \"None\"), \"num_negatives\"] = metrics.num_negatives(privileged=None)\n",
    "numbers.loc[(\"adult-race\", \"Privileged\"), \"num_negatives\"] = metrics.num_negatives(privileged=True)\n",
    "numbers.loc[(\"adult-race\", \"Unprivileged\"), \"num_negatives\"] = metrics.num_negatives(privileged=False)"
   ]
  },
  {
   "cell_type": "markdown",
   "metadata": {},
   "source": [
    "# compas-sex"
   ]
  },
  {
   "cell_type": "code",
   "execution_count": 4,
   "metadata": {},
   "outputs": [
    {
     "name": "stderr",
     "output_type": "stream",
     "text": [
      "WARNING:root:Missing Data: 5 rows removed from CompasDataset.\n"
     ]
    }
   ],
   "source": [
    "data = CompasDataset(\n",
    "    protected_attribute_names=[\"sex\"],\n",
    "    privileged_classes=[[\"Female\"]],\n",
    "    features_to_drop=[\"race\"],\n",
    ")\n",
    "p, u = [{\"sex\": 1}], [{\"sex\": 0}]\n",
    "metrics = BinaryLabelDatasetMetric(\n",
    "    dataset=data,\n",
    "    privileged_groups=p,\n",
    "    unprivileged_groups=u,\n",
    ")\n",
    "\n",
    "numbers.loc[(\"compas-sex\", \"None\"), \"num_instances\"] = metrics.num_instances(privileged=None)\n",
    "numbers.loc[(\"compas-sex\", \"Privileged\"), \"num_instances\"] = metrics.num_instances(privileged=True)\n",
    "numbers.loc[(\"compas-sex\", \"Unprivileged\"), \"num_instances\"] = metrics.num_instances(privileged=False)\n",
    "\n",
    "numbers.loc[(\"compas-sex\", \"None\"), \"num_positives\"] = metrics.num_positives(privileged=None)\n",
    "numbers.loc[(\"compas-sex\", \"Privileged\"), \"num_positives\"] = metrics.num_positives(privileged=True)\n",
    "numbers.loc[(\"compas-sex\", \"Unprivileged\"), \"num_positives\"] = metrics.num_positives(privileged=False)\n",
    "\n",
    "numbers.loc[(\"compas-sex\", \"None\"), \"num_negatives\"] = metrics.num_negatives(privileged=None)\n",
    "numbers.loc[(\"compas-sex\", \"Privileged\"), \"num_negatives\"] = metrics.num_negatives(privileged=True)\n",
    "numbers.loc[(\"compas-sex\", \"Unprivileged\"), \"num_negatives\"] = metrics.num_negatives(privileged=False)"
   ]
  },
  {
   "cell_type": "markdown",
   "metadata": {},
   "source": [
    "# compas-race"
   ]
  },
  {
   "cell_type": "code",
   "execution_count": 5,
   "metadata": {},
   "outputs": [
    {
     "name": "stderr",
     "output_type": "stream",
     "text": [
      "WARNING:root:Missing Data: 5 rows removed from CompasDataset.\n"
     ]
    }
   ],
   "source": [
    "data = CompasDataset(\n",
    "    protected_attribute_names=[\"race\"],\n",
    "    privileged_classes=[[\"Caucasian\"]],\n",
    "    features_to_drop=[\"sex\"],\n",
    ")\n",
    "p, u = [{\"race\": 1}], [{\"race\": 0}]\n",
    "metrics = BinaryLabelDatasetMetric(\n",
    "    dataset=data,\n",
    "    privileged_groups=p,\n",
    "    unprivileged_groups=u,\n",
    ")\n",
    "\n",
    "numbers.loc[(\"compas-race\", \"None\"), \"num_instances\"] = metrics.num_instances(privileged=None)\n",
    "numbers.loc[(\"compas-race\", \"Privileged\"), \"num_instances\"] = metrics.num_instances(privileged=True)\n",
    "numbers.loc[(\"compas-race\", \"Unprivileged\"), \"num_instances\"] = metrics.num_instances(privileged=False)\n",
    "\n",
    "numbers.loc[(\"compas-race\", \"None\"), \"num_positives\"] = metrics.num_positives(privileged=None)\n",
    "numbers.loc[(\"compas-race\", \"Privileged\"), \"num_positives\"] = metrics.num_positives(privileged=True)\n",
    "numbers.loc[(\"compas-race\", \"Unprivileged\"), \"num_positives\"] = metrics.num_positives(privileged=False)\n",
    "\n",
    "numbers.loc[(\"compas-race\", \"None\"), \"num_negatives\"] = metrics.num_negatives(privileged=None)\n",
    "numbers.loc[(\"compas-race\", \"Privileged\"), \"num_negatives\"] = metrics.num_negatives(privileged=True)\n",
    "numbers.loc[(\"compas-race\", \"Unprivileged\"), \"num_negatives\"] = metrics.num_negatives(privileged=False)"
   ]
  },
  {
   "cell_type": "markdown",
   "metadata": {},
   "source": [
    "# bank-age"
   ]
  },
  {
   "cell_type": "code",
   "execution_count": 6,
   "metadata": {},
   "outputs": [
    {
     "name": "stderr",
     "output_type": "stream",
     "text": [
      "WARNING:root:Missing Data: 10700 rows removed from BankDataset.\n"
     ]
    }
   ],
   "source": [
    "data = BankDataset(\n",
    "    protected_attribute_names=[\"age\"],\n",
    "    privileged_classes=[lambda x: x > 25],\n",
    ")\n",
    "p, u = [{\"age\": 1}], [{\"age\": 0}]\n",
    "metrics = BinaryLabelDatasetMetric(\n",
    "    dataset=data,\n",
    "    privileged_groups=p,\n",
    "    unprivileged_groups=u,\n",
    ")\n",
    "\n",
    "numbers.loc[(\"bank-age\", \"None\"), \"num_instances\"] = metrics.num_instances(privileged=None)\n",
    "numbers.loc[(\"bank-age\", \"Privileged\"), \"num_instances\"] = metrics.num_instances(privileged=True)\n",
    "numbers.loc[(\"bank-age\", \"Unprivileged\"), \"num_instances\"] = metrics.num_instances(privileged=False)\n",
    "\n",
    "numbers.loc[(\"bank-age\", \"None\"), \"num_positives\"] = metrics.num_positives(privileged=None)\n",
    "numbers.loc[(\"bank-age\", \"Privileged\"), \"num_positives\"] = metrics.num_positives(privileged=True)\n",
    "numbers.loc[(\"bank-age\", \"Unprivileged\"), \"num_positives\"] = metrics.num_positives(privileged=False)\n",
    "\n",
    "numbers.loc[(\"bank-age\", \"None\"), \"num_negatives\"] = metrics.num_negatives(privileged=None)\n",
    "numbers.loc[(\"bank-age\", \"Privileged\"), \"num_negatives\"] = metrics.num_negatives(privileged=True)\n",
    "numbers.loc[(\"bank-age\", \"Unprivileged\"), \"num_negatives\"] = metrics.num_negatives(privileged=False)"
   ]
  },
  {
   "cell_type": "markdown",
   "metadata": {},
   "source": [
    "# german-sex"
   ]
  },
  {
   "cell_type": "code",
   "execution_count": 7,
   "metadata": {},
   "outputs": [],
   "source": [
    "data = GermanDataset(\n",
    "    protected_attribute_names=[\"sex\"],\n",
    "    privileged_classes=[[\"male\"]],\n",
    "    features_to_drop=[\"age\", \"personal_status\"],\n",
    ")\n",
    "p, u = [{\"sex\": 1}], [{\"sex\": 0}]\n",
    "metrics = BinaryLabelDatasetMetric(\n",
    "    dataset=data,\n",
    "    privileged_groups=p,\n",
    "    unprivileged_groups=u,\n",
    ")\n",
    "\n",
    "numbers.loc[(\"german-sex\", \"None\"), \"num_instances\"] = metrics.num_instances(privileged=None)\n",
    "numbers.loc[(\"german-sex\", \"Privileged\"), \"num_instances\"] = metrics.num_instances(privileged=True)\n",
    "numbers.loc[(\"german-sex\", \"Unprivileged\"), \"num_instances\"] = metrics.num_instances(privileged=False)\n",
    "\n",
    "numbers.loc[(\"german-sex\", \"None\"), \"num_positives\"] = metrics.num_positives(privileged=None)\n",
    "numbers.loc[(\"german-sex\", \"Privileged\"), \"num_positives\"] = metrics.num_positives(privileged=True)\n",
    "numbers.loc[(\"german-sex\", \"Unprivileged\"), \"num_positives\"] = metrics.num_positives(privileged=False)\n",
    "\n",
    "numbers.loc[(\"german-sex\", \"None\"), \"num_negatives\"] = metrics.num_negatives(privileged=None)\n",
    "numbers.loc[(\"german-sex\", \"Privileged\"), \"num_negatives\"] = metrics.num_negatives(privileged=True)\n",
    "numbers.loc[(\"german-sex\", \"Unprivileged\"), \"num_negatives\"] = metrics.num_negatives(privileged=False)"
   ]
  },
  {
   "cell_type": "markdown",
   "metadata": {},
   "source": [
    "# german-age"
   ]
  },
  {
   "cell_type": "code",
   "execution_count": 8,
   "metadata": {},
   "outputs": [],
   "source": [
    "data = GermanDataset(\n",
    "    protected_attribute_names=[\"age\"],\n",
    "    privileged_classes=[lambda x: x > 25],\n",
    "    features_to_drop=[\"sex\", \"personal_status\"]\n",
    ")\n",
    "p, u = [{\"age\": 1}], [{\"age\": 0}]\n",
    "metrics = BinaryLabelDatasetMetric(\n",
    "    dataset=data,\n",
    "    privileged_groups=p,\n",
    "    unprivileged_groups=u,\n",
    ")\n",
    "\n",
    "numbers.loc[(\"german-age\", \"None\"), \"num_instances\"] = metrics.num_instances(privileged=None)\n",
    "numbers.loc[(\"german-age\", \"Privileged\"), \"num_instances\"] = metrics.num_instances(privileged=True)\n",
    "numbers.loc[(\"german-age\", \"Unprivileged\"), \"num_instances\"] = metrics.num_instances(privileged=False)\n",
    "\n",
    "numbers.loc[(\"german-age\", \"None\"), \"num_positives\"] = metrics.num_positives(privileged=None)\n",
    "numbers.loc[(\"german-age\", \"Privileged\"), \"num_positives\"] = metrics.num_positives(privileged=True)\n",
    "numbers.loc[(\"german-age\", \"Unprivileged\"), \"num_positives\"] = metrics.num_positives(privileged=False)\n",
    "\n",
    "numbers.loc[(\"german-age\", \"None\"), \"num_negatives\"] = metrics.num_negatives(privileged=None)\n",
    "numbers.loc[(\"german-age\", \"Privileged\"), \"num_negatives\"] = metrics.num_negatives(privileged=True)\n",
    "numbers.loc[(\"german-age\", \"Unprivileged\"), \"num_negatives\"] = metrics.num_negatives(privileged=False)"
   ]
  },
  {
   "cell_type": "markdown",
   "metadata": {},
   "source": [
    "# meps-race"
   ]
  },
  {
   "cell_type": "code",
   "execution_count": 9,
   "metadata": {},
   "outputs": [],
   "source": [
    "data = MEPSDataset21(\n",
    "    protected_attribute_names=[\"RACE\"],\n",
    "    privileged_classes=[[\"White\"]],\n",
    ")\n",
    "# p, u = [{\"RACE\": 1}], [{\"RACE\": 0}]\n",
    "# metrics = BinaryLabelDatasetMetric(\n",
    "#     dataset=data,\n",
    "#     privileged_groups=p,\n",
    "#     unprivileged_groups=u,\n",
    "# )\n",
    "\n",
    "meps, _ = data.convert_to_dataframe()\n",
    "\n",
    "# there is some bug in the AIF360 library, it returns floats for\n",
    "# the num_* metrics for the MEPS dataset. I calculate the metrics\n",
    "# manually.\n",
    "numbers.loc[(\"meps-race\", \"None\"), \"num_instances\"] = meps.shape[0]\n",
    "numbers.loc[(\"meps-race\", \"Privileged\"), \"num_instances\"] = meps[meps.RACE == 1].shape[0]\n",
    "numbers.loc[(\"meps-race\", \"Unprivileged\"), \"num_instances\"] = meps[meps.RACE == 0].shape[0]\n",
    "\n",
    "numbers.loc[(\"meps-race\", \"None\"), \"num_positives\"] = meps[meps.UTILIZATION == 1].shape[0]\n",
    "numbers.loc[(\"meps-race\", \"Privileged\"), \"num_positives\"] = meps[(meps.RACE == 1) & (meps.UTILIZATION == 1)].shape[0]\n",
    "numbers.loc[(\"meps-race\", \"Unprivileged\"), \"num_positives\"] = meps[(meps.RACE == 0) & (meps.UTILIZATION == 1)].shape[0]\n",
    "\n",
    "numbers.loc[(\"meps-race\", \"None\"), \"num_negatives\"] = meps[meps.UTILIZATION == 0].shape[0]\n",
    "numbers.loc[(\"meps-race\", \"Privileged\"), \"num_negatives\"] = meps[(meps.RACE == 1) & (meps.UTILIZATION == 0)].shape[0]\n",
    "numbers.loc[(\"meps-race\", \"Unprivileged\"), \"num_negatives\"] = meps[(meps.RACE == 0) & (meps.UTILIZATION == 0)].shape[0]"
   ]
  },
  {
   "cell_type": "code",
   "execution_count": 10,
   "metadata": {},
   "outputs": [
    {
     "data": {
      "text/html": [
       "<div>\n",
       "<style scoped>\n",
       "    .dataframe tbody tr th:only-of-type {\n",
       "        vertical-align: middle;\n",
       "    }\n",
       "\n",
       "    .dataframe tbody tr th {\n",
       "        vertical-align: top;\n",
       "    }\n",
       "\n",
       "    .dataframe thead th {\n",
       "        text-align: right;\n",
       "    }\n",
       "</style>\n",
       "<table border=\"1\" class=\"dataframe\">\n",
       "  <thead>\n",
       "    <tr style=\"text-align: right;\">\n",
       "      <th></th>\n",
       "      <th></th>\n",
       "      <th>num_instances</th>\n",
       "      <th>num_positives</th>\n",
       "      <th>num_negatives</th>\n",
       "    </tr>\n",
       "    <tr>\n",
       "      <th>dataset</th>\n",
       "      <th>condition</th>\n",
       "      <th></th>\n",
       "      <th></th>\n",
       "      <th></th>\n",
       "    </tr>\n",
       "  </thead>\n",
       "  <tbody>\n",
       "    <tr>\n",
       "      <th rowspan=\"3\" valign=\"top\">adult-sex</th>\n",
       "      <th>None</th>\n",
       "      <td>45222.0</td>\n",
       "      <td>11208.0</td>\n",
       "      <td>34014.0</td>\n",
       "    </tr>\n",
       "    <tr>\n",
       "      <th>Privileged</th>\n",
       "      <td>30527.0</td>\n",
       "      <td>9539.0</td>\n",
       "      <td>20988.0</td>\n",
       "    </tr>\n",
       "    <tr>\n",
       "      <th>Unprivileged</th>\n",
       "      <td>14695.0</td>\n",
       "      <td>1669.0</td>\n",
       "      <td>13026.0</td>\n",
       "    </tr>\n",
       "    <tr>\n",
       "      <th rowspan=\"3\" valign=\"top\">adult-race</th>\n",
       "      <th>None</th>\n",
       "      <td>45222.0</td>\n",
       "      <td>11208.0</td>\n",
       "      <td>34014.0</td>\n",
       "    </tr>\n",
       "    <tr>\n",
       "      <th>Privileged</th>\n",
       "      <td>38903.0</td>\n",
       "      <td>10207.0</td>\n",
       "      <td>28696.0</td>\n",
       "    </tr>\n",
       "    <tr>\n",
       "      <th>Unprivileged</th>\n",
       "      <td>6319.0</td>\n",
       "      <td>1001.0</td>\n",
       "      <td>5318.0</td>\n",
       "    </tr>\n",
       "    <tr>\n",
       "      <th rowspan=\"3\" valign=\"top\">compas-sex</th>\n",
       "      <th>None</th>\n",
       "      <td>6167.0</td>\n",
       "      <td>3358.0</td>\n",
       "      <td>2809.0</td>\n",
       "    </tr>\n",
       "    <tr>\n",
       "      <th>Privileged</th>\n",
       "      <td>1173.0</td>\n",
       "      <td>760.0</td>\n",
       "      <td>413.0</td>\n",
       "    </tr>\n",
       "    <tr>\n",
       "      <th>Unprivileged</th>\n",
       "      <td>4994.0</td>\n",
       "      <td>2598.0</td>\n",
       "      <td>2396.0</td>\n",
       "    </tr>\n",
       "    <tr>\n",
       "      <th rowspan=\"3\" valign=\"top\">compas-race</th>\n",
       "      <th>None</th>\n",
       "      <td>6167.0</td>\n",
       "      <td>3358.0</td>\n",
       "      <td>2809.0</td>\n",
       "    </tr>\n",
       "    <tr>\n",
       "      <th>Privileged</th>\n",
       "      <td>2100.0</td>\n",
       "      <td>1278.0</td>\n",
       "      <td>822.0</td>\n",
       "    </tr>\n",
       "    <tr>\n",
       "      <th>Unprivileged</th>\n",
       "      <td>4067.0</td>\n",
       "      <td>2080.0</td>\n",
       "      <td>1987.0</td>\n",
       "    </tr>\n",
       "    <tr>\n",
       "      <th rowspan=\"3\" valign=\"top\">bank-age</th>\n",
       "      <th>None</th>\n",
       "      <td>30488.0</td>\n",
       "      <td>3859.0</td>\n",
       "      <td>26629.0</td>\n",
       "    </tr>\n",
       "    <tr>\n",
       "      <th>Privileged</th>\n",
       "      <td>29124.0</td>\n",
       "      <td>3586.0</td>\n",
       "      <td>25538.0</td>\n",
       "    </tr>\n",
       "    <tr>\n",
       "      <th>Unprivileged</th>\n",
       "      <td>1364.0</td>\n",
       "      <td>273.0</td>\n",
       "      <td>1091.0</td>\n",
       "    </tr>\n",
       "    <tr>\n",
       "      <th rowspan=\"3\" valign=\"top\">german-sex</th>\n",
       "      <th>None</th>\n",
       "      <td>1000.0</td>\n",
       "      <td>700.0</td>\n",
       "      <td>300.0</td>\n",
       "    </tr>\n",
       "    <tr>\n",
       "      <th>Privileged</th>\n",
       "      <td>690.0</td>\n",
       "      <td>499.0</td>\n",
       "      <td>191.0</td>\n",
       "    </tr>\n",
       "    <tr>\n",
       "      <th>Unprivileged</th>\n",
       "      <td>310.0</td>\n",
       "      <td>201.0</td>\n",
       "      <td>109.0</td>\n",
       "    </tr>\n",
       "    <tr>\n",
       "      <th rowspan=\"3\" valign=\"top\">german-age</th>\n",
       "      <th>None</th>\n",
       "      <td>1000.0</td>\n",
       "      <td>700.0</td>\n",
       "      <td>300.0</td>\n",
       "    </tr>\n",
       "    <tr>\n",
       "      <th>Privileged</th>\n",
       "      <td>810.0</td>\n",
       "      <td>590.0</td>\n",
       "      <td>220.0</td>\n",
       "    </tr>\n",
       "    <tr>\n",
       "      <th>Unprivileged</th>\n",
       "      <td>190.0</td>\n",
       "      <td>110.0</td>\n",
       "      <td>80.0</td>\n",
       "    </tr>\n",
       "    <tr>\n",
       "      <th rowspan=\"3\" valign=\"top\">meps-race</th>\n",
       "      <th>None</th>\n",
       "      <td>15675</td>\n",
       "      <td>2628</td>\n",
       "      <td>13047</td>\n",
       "    </tr>\n",
       "    <tr>\n",
       "      <th>Privileged</th>\n",
       "      <td>6022</td>\n",
       "      <td>1526</td>\n",
       "      <td>4496</td>\n",
       "    </tr>\n",
       "    <tr>\n",
       "      <th>Unprivileged</th>\n",
       "      <td>9653</td>\n",
       "      <td>1102</td>\n",
       "      <td>8551</td>\n",
       "    </tr>\n",
       "  </tbody>\n",
       "</table>\n",
       "</div>"
      ],
      "text/plain": [
       "                         num_instances num_positives num_negatives\n",
       "dataset     condition                                             \n",
       "adult-sex   None               45222.0       11208.0       34014.0\n",
       "            Privileged         30527.0        9539.0       20988.0\n",
       "            Unprivileged       14695.0        1669.0       13026.0\n",
       "adult-race  None               45222.0       11208.0       34014.0\n",
       "            Privileged         38903.0       10207.0       28696.0\n",
       "            Unprivileged        6319.0        1001.0        5318.0\n",
       "compas-sex  None                6167.0        3358.0        2809.0\n",
       "            Privileged          1173.0         760.0         413.0\n",
       "            Unprivileged        4994.0        2598.0        2396.0\n",
       "compas-race None                6167.0        3358.0        2809.0\n",
       "            Privileged          2100.0        1278.0         822.0\n",
       "            Unprivileged        4067.0        2080.0        1987.0\n",
       "bank-age    None               30488.0        3859.0       26629.0\n",
       "            Privileged         29124.0        3586.0       25538.0\n",
       "            Unprivileged        1364.0         273.0        1091.0\n",
       "german-sex  None                1000.0         700.0         300.0\n",
       "            Privileged           690.0         499.0         191.0\n",
       "            Unprivileged         310.0         201.0         109.0\n",
       "german-age  None                1000.0         700.0         300.0\n",
       "            Privileged           810.0         590.0         220.0\n",
       "            Unprivileged         190.0         110.0          80.0\n",
       "meps-race   None                 15675          2628         13047\n",
       "            Privileged            6022          1526          4496\n",
       "            Unprivileged          9653          1102          8551"
      ]
     },
     "execution_count": 10,
     "metadata": {},
     "output_type": "execute_result"
    }
   ],
   "source": [
    "numbers"
   ]
  },
  {
   "cell_type": "code",
   "execution_count": 11,
   "metadata": {},
   "outputs": [],
   "source": [
    "numbers.to_clipboard()"
   ]
  }
 ],
 "metadata": {
  "kernelspec": {
   "display_name": "Python 3.10.8 ('python-3.10.8': venv)",
   "language": "python",
   "name": "python3"
  },
  "language_info": {
   "codemirror_mode": {
    "name": "ipython",
    "version": 3
   },
   "file_extension": ".py",
   "mimetype": "text/x-python",
   "name": "python",
   "nbconvert_exporter": "python",
   "pygments_lexer": "ipython3",
   "version": "3.10.8"
  },
  "orig_nbformat": 4,
  "vscode": {
   "interpreter": {
    "hash": "8974acc76fd27bc8b6a8562f112d0cf2ce1fd05bc1fadf1071ca7fb0870497bf"
   }
  }
 },
 "nbformat": 4,
 "nbformat_minor": 2
}
